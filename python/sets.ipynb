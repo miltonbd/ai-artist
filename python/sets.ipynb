{
 "cells": [
  {
   "cell_type": "code",
   "execution_count": 57,
   "metadata": {},
   "outputs": [
    {
     "name": "stdout",
     "output_type": "stream",
     "text": [
      "<class 'set'>\n",
      "{'milton'}\n",
      "<class 'set'>\n",
      "[' ', 'A', 'h', 'n', 'o', 'p', 't', 'y']\n"
     ]
    }
   ],
   "source": [
    "# a set is an unordered data type means it doe snot keep the inserting order of elements with no duplication. If we want\n",
    "# order of insertion is import we should go fort list and tuple\n",
    "a= {'milton'}\n",
    "print (type (a))\n",
    "print ( a )\n",
    "\n",
    "b= set ('A python')\n",
    "print (type(b))\n",
    "print (sorted(b))"
   ]
  },
  {
   "cell_type": "code",
   "execution_count": 67,
   "metadata": {},
   "outputs": [
    {
     "name": "stdout",
     "output_type": "stream",
     "text": [
      "<class 'dict'>\n",
      "<class 'set'>\n",
      "{0, 1, 3, 5, 7}\n"
     ]
    }
   ],
   "source": [
    "a= {}\n",
    "print (type (a))\n",
    "b= set()\n",
    "b.add(1)\n",
    "b.add (3)\n",
    "b.add(0)\n",
    "b.add(7)\n",
    "b.add(5)\n",
    "print (type(b))\n",
    "print (b)"
   ]
  },
  {
   "cell_type": "code",
   "execution_count": 70,
   "metadata": {},
   "outputs": [
    {
     "name": "stdout",
     "output_type": "stream",
     "text": [
      "<class 'str'>\n",
      "True\n"
     ]
    }
   ],
   "source": [
    "s= \"Bangladesh\"\n",
    "s1=s\n",
    "print (type(s))\n",
    "print (s==s1)"
   ]
  },
  {
   "cell_type": "code",
   "execution_count": 79,
   "metadata": {},
   "outputs": [
    {
     "name": "stdout",
     "output_type": "stream",
     "text": [
      "{'f', 'a'}\n",
      "{'g'}\n",
      "{'s', 'a', 'g', 'f', 'd'}\n",
      "{'d', 's'}\n",
      "{'a', 'g', 'f'}\n"
     ]
    }
   ],
   "source": [
    "str1= set ('dgsgdgdsg')\n",
    "str2= set (\"sdfdsfsdaff\")\n",
    "\n",
    "print (str2-str1) # letters in str2 but not in str1\n",
    "print (str1-str2 ) # letter in str1 but not in str2\n",
    "print (str1 | str2) # letter in either str1 or str2 or both\n",
    "print (str1 & str2) # letter in both str1 and str2\n",
    "print (str1 ^ str2) # letter in which uncommon to both strings"
   ]
  },
  {
   "cell_type": "code",
   "execution_count": 5,
   "metadata": {},
   "outputs": [
    {
     "name": "stdout",
     "output_type": "stream",
     "text": [
      "frozenset({'g', 's', 'i', 'e', 'a', 'h', 'l', ' ', 'd', 'n', 'r', 't', 'b'})\n"
     ]
    }
   ],
   "source": [
    "f=frozenset(\"bangladesh is great\")\n",
    "print(f)"
   ]
  },
  {
   "cell_type": "code",
   "execution_count": null,
   "metadata": {},
   "outputs": [],
   "source": []
  },
  {
   "cell_type": "code",
   "execution_count": null,
   "metadata": {},
   "outputs": [],
   "source": []
  },
  {
   "cell_type": "code",
   "execution_count": null,
   "metadata": {},
   "outputs": [],
   "source": []
  },
  {
   "cell_type": "code",
   "execution_count": null,
   "metadata": {},
   "outputs": [],
   "source": []
  }
 ],
 "metadata": {
  "kernelspec": {
   "display_name": "Python 3",
   "language": "python",
   "name": "python3"
  },
  "language_info": {
   "codemirror_mode": {
    "name": "ipython",
    "version": 3
   },
   "file_extension": ".py",
   "mimetype": "text/x-python",
   "name": "python",
   "nbconvert_exporter": "python",
   "pygments_lexer": "ipython3",
   "version": "3.5.2"
  }
 },
 "nbformat": 4,
 "nbformat_minor": 2
}
