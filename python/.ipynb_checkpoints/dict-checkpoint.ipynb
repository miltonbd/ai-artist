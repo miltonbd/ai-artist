{
 "cells": [
  {
   "cell_type": "code",
   "execution_count": 9,
   "metadata": {},
   "outputs": [
    {
     "name": "stdout",
     "output_type": "stream",
     "text": [
      "{'a': 1, 'b': 2}\n",
      "{'name': 'milton', 'id': 12}\n",
      "{'id': 10}\n",
      "{'id': 1}\n",
      "{'a': 1}\n",
      "['a']\n",
      "dict_items([('a', 1)])\n"
     ]
    }
   ],
   "source": [
    "d={\"a\":1,\"b\":2}\n",
    "print(d)\n",
    "\n",
    "d=dict(id=12,name=\"milton\")\n",
    "\n",
    "print(d)\n",
    "\n",
    "d=dict({(\"id\",10)})\n",
    "\n",
    "print(d)\n",
    "\n",
    "d=dict([('id',1)])\n",
    "\n",
    "print(d)\n",
    "\n",
    "d=dict(zip([\"a\"],[1]))\n",
    "\n",
    "print(d)\n",
    "\n",
    "print(list(d.keys()))\n",
    "print(d.items())"
   ]
  },
  {
   "cell_type": "code",
   "execution_count": 20,
   "metadata": {},
   "outputs": [
    {
     "name": "stdout",
     "output_type": "stream",
     "text": [
      "{'d': 1971, 'b': 1971}\n",
      "{'ab cd': [1]}\n"
     ]
    }
   ],
   "source": [
    "b=dict.fromkeys(\"bd\",1971)\n",
    "\n",
    "print(b)\n",
    "\n",
    "b=dict.fromkeys(['ab cd'],[1])\n",
    "print(b)"
   ]
  },
  {
   "cell_type": "code",
   "execution_count": null,
   "metadata": {},
   "outputs": [],
   "source": []
  },
  {
   "cell_type": "code",
   "execution_count": null,
   "metadata": {},
   "outputs": [],
   "source": []
  },
  {
   "cell_type": "code",
   "execution_count": null,
   "metadata": {},
   "outputs": [],
   "source": []
  },
  {
   "cell_type": "code",
   "execution_count": null,
   "metadata": {},
   "outputs": [],
   "source": []
  },
  {
   "cell_type": "code",
   "execution_count": null,
   "metadata": {},
   "outputs": [],
   "source": []
  }
 ],
 "metadata": {
  "kernelspec": {
   "display_name": "Python 3",
   "language": "python",
   "name": "python3"
  },
  "language_info": {
   "codemirror_mode": {
    "name": "ipython",
    "version": 3
   },
   "file_extension": ".py",
   "mimetype": "text/x-python",
   "name": "python",
   "nbconvert_exporter": "python",
   "pygments_lexer": "ipython3",
   "version": "3.5.2"
  }
 },
 "nbformat": 4,
 "nbformat_minor": 2
}
