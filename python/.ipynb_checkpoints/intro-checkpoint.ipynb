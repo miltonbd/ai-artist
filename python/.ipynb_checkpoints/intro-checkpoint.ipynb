{
 "cells": [
  {
   "cell_type": "markdown",
   "metadata": {},
   "source": [
    "# python max data size depends on machine's memory not in any fixed size like c/c++/java\n",
    "\n",
    "\n",
    "There is only int and float data type in python. no double/big int/ small int/ tiny int are there\n",
    "\n"
   ]
  },
  {
   "cell_type": "code",
   "execution_count": 4,
   "metadata": {},
   "outputs": [
    {
     "name": "stdout",
     "output_type": "stream",
     "text": [
      "<class 'int'>\n",
      "<class 'float'>\n"
     ]
    }
   ],
   "source": [
    "a=121321423532457823578235672385555555556345324532532532532532523523523478526423421645216452136452165421645216542136452136542136542134\n",
    "print (type(a))\n",
    "b=0.0000000000000000000000000343242343240213213213123\n",
    "print ( type( b ) )"
   ]
  },
  {
   "cell_type": "code",
   "execution_count": 8,
   "metadata": {},
   "outputs": [
    {
     "name": "stdout",
     "output_type": "stream",
     "text": [
      "r\n"
     ]
    }
   ],
   "source": [
    "# to access data from string use []\n",
    "print ( \"wqrwqrwqrwqrwqr\"[2] ) # index is 0 based\n",
    "# print (213213213213213[1])  TypeError: 'int' object is not subscriptable\n"
   ]
  },
  {
   "cell_type": "markdown",
   "metadata": {},
   "source": [
    "# String, interger, float are immutable means once they are created their value can not be changed\n"
   ]
  },
  {
   "cell_type": "code",
   "execution_count": 19,
   "metadata": {},
   "outputs": [
    {
     "name": "stdout",
     "output_type": "stream",
     "text": [
      "True\n",
      "True\n",
      "True\n",
      "True\n",
      "True\n",
      "True\n",
      "True\n",
      "True\n",
      "True\n",
      "False\n",
      "True\n",
      "False\n"
     ]
    }
   ],
   "source": [
    "a=12\n",
    "b=12\n",
    "c=a\n",
    "\n",
    "print ( a==b ) # True \n",
    "print (a is b) # True \n",
    "print (c==b)   # True \n",
    "print (c is b) # True \n",
    "\n",
    "a=\"wf\"\n",
    "b=\"wf\"\n",
    "c=a\n",
    "\n",
    "print ( a==b ) # True \n",
    "print (a is b) # True \n",
    "print (c==b)   # True \n",
    "print (c is b) # True \n",
    "\n",
    "\n",
    "a=[1]\n",
    "b=[1]\n",
    "c=a\n",
    "\n",
    "print ( a==b ) # True \n",
    "print (a is b) # False # two object referes to different value\n",
    "print (c==b) # True \n",
    "print (c is b) # False # two object referes to different value\n",
    "\n"
   ]
  },
  {
   "cell_type": "markdown",
   "metadata": {},
   "source": [
    "# Python built in data types are: int, float, str, list, dict, tuple"
   ]
  },
  {
   "cell_type": "code",
   "execution_count": 24,
   "metadata": {},
   "outputs": [
    {
     "name": "stdout",
     "output_type": "stream",
     "text": [
      "12 12\n"
     ]
    }
   ],
   "source": [
    "a =int(12);    b=12   # python one line can have multiple statement with ending ;\n",
    "print (a,b)"
   ]
  },
  {
   "cell_type": "code",
   "execution_count": 26,
   "metadata": {},
   "outputs": [
    {
     "name": "stdout",
     "output_type": "stream",
     "text": [
      "1 1 1\n",
      "1 2 1\n"
     ]
    }
   ],
   "source": [
    "x=1\n",
    "y=x\n",
    "z=y\n",
    "print (x,y,z)\n",
    "\n",
    "y=2\n",
    "print (x,y,z)\n",
    "\n",
    "# int, str are immutable means once their reference is filled with it can not be changed.\n"
   ]
  },
  {
   "cell_type": "markdown",
   "metadata": {},
   "source": [
    "# The main use of is to find if two check the value is NULL or Not Null"
   ]
  },
  {
   "cell_type": "code",
   "execution_count": 20,
   "metadata": {},
   "outputs": [
    {
     "name": "stdout",
     "output_type": "stream",
     "text": [
      "True\n",
      "True\n",
      "True\n",
      "False\n",
      "True True\n",
      "True\n",
      "False\n"
     ]
    }
   ],
   "source": [
    "# is is used to check if two refernces are same\n",
    "a=10\n",
    "b=a\n",
    "c=10\n",
    "print( a is b )\n",
    "print( a is c )\n",
    "a=[1,2]\n",
    "b=a\n",
    "print(a is b)\n",
    "b=[1,2]\n",
    "print(a is b)\n",
    "\n",
    "a=None\n",
    "b=1\n",
    "print(a is None, b is not None)\n",
    "\n",
    "a=\"many\"\n",
    "b=\"many\"\n",
    "print( a is b )  # True\n",
    "\n",
    "a=\"many paths\"\n",
    "b=\"many paths\"\n",
    "print( a is b )  # False\n",
    "\n"
   ]
  },
  {
   "cell_type": "code",
   "execution_count": 35,
   "metadata": {},
   "outputs": [
    {
     "name": "stdout",
     "output_type": "stream",
     "text": [
      "False\n",
      "True\n",
      "2\n",
      "5\n",
      "True\n",
      "True\n",
      "True\n"
     ]
    }
   ],
   "source": [
    "#use ==, >,<>=,<=, != to compare value\n",
    "# is , is not for checking if the are not None and indicate same reference\n",
    "\n",
    "a=None\n",
    "print( a  is not None )\n",
    "print(1 is 1)\n",
    "print( 5 and 2 )\n",
    "print(5 or 1)\n",
    "print(True and True)\n",
    "print(True or False)\n",
    "print(False or True)"
   ]
  },
  {
   "cell_type": "code",
   "execution_count": 4,
   "metadata": {},
   "outputs": [
    {
     "name": "stdout",
     "output_type": "stream",
     "text": [
      "49\n",
      "1\n"
     ]
    }
   ],
   "source": [
    "_=print\n",
    "_(ord(\"1\")) # show unicode \n",
    "_(chr(49)) # show letter from unicode"
   ]
  },
  {
   "cell_type": "code",
   "execution_count": null,
   "metadata": {},
   "outputs": [],
   "source": []
  },
  {
   "cell_type": "code",
   "execution_count": null,
   "metadata": {},
   "outputs": [],
   "source": []
  }
 ],
 "metadata": {
  "kernelspec": {
   "display_name": "Python 3",
   "language": "python",
   "name": "python3"
  },
  "language_info": {
   "codemirror_mode": {
    "name": "ipython",
    "version": 3
   },
   "file_extension": ".py",
   "mimetype": "text/x-python",
   "name": "python",
   "nbconvert_exporter": "python",
   "pygments_lexer": "ipython3",
   "version": "3.5.2"
  }
 },
 "nbformat": 4,
 "nbformat_minor": 2
}
