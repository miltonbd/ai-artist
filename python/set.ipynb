{
 "cells": [
  {
   "cell_type": "code",
   "execution_count": 10,
   "metadata": {},
   "outputs": [
    {
     "name": "stdout",
     "output_type": "stream",
     "text": [
      "{8, 1, 2}\n",
      "{8, 1, 2, 'ererer'}\n"
     ]
    }
   ],
   "source": [
    "# float , frozenset , int , str , and tuple have hashtable\n",
    "# dict , list , and set are not hastable\n",
    "a={1,2,1,8} # set has no order, set is mutable.list, set,\n",
    "print(a)\n",
    "a.add(\"ererer\")\n",
    "#a.add({'a':2}) TypeError: unhashable type: 'dict'\n",
    "print(a)"
   ]
  }
 ],
 "metadata": {
  "kernelspec": {
   "display_name": "Python 3",
   "language": "python",
   "name": "python3"
  },
  "language_info": {
   "codemirror_mode": {
    "name": "ipython",
    "version": 3
   },
   "file_extension": ".py",
   "mimetype": "text/x-python",
   "name": "python",
   "nbconvert_exporter": "python",
   "pygments_lexer": "ipython3",
   "version": "3.5.2"
  }
 },
 "nbformat": 4,
 "nbformat_minor": 2
}
