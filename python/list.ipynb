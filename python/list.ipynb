{
 "cells": [
  {
   "cell_type": "code",
   "execution_count": 4,
   "metadata": {},
   "outputs": [
    {
     "name": "stdout",
     "output_type": "stream",
     "text": [
      "0\n",
      "0.5\n"
     ]
    }
   ],
   "source": [
    "print ( 1//2 )\n",
    "print (1/2)"
   ]
  },
  {
   "cell_type": "code",
   "execution_count": 6,
   "metadata": {},
   "outputs": [],
   "source": [
    "a_a=111"
   ]
  },
  {
   "cell_type": "code",
   "execution_count": 13,
   "metadata": {},
   "outputs": [
    {
     "name": "stdout",
     "output_type": "stream",
     "text": [
      "True\n"
     ]
    }
   ],
   "source": [
    "print (all([1,1]))"
   ]
  },
  {
   "cell_type": "code",
   "execution_count": 29,
   "metadata": {},
   "outputs": [
    {
     "name": "stdout",
     "output_type": "stream",
     "text": [
      "0\n",
      "2\n",
      "4\n",
      "6\n",
      "8\n"
     ]
    }
   ],
   "source": [
    "li= range (0,10,2)\n",
    "for i in li:\n",
    "    print (i)"
   ]
  },
  {
   "cell_type": "code",
   "execution_count": 11,
   "metadata": {},
   "outputs": [
    {
     "name": "stdout",
     "output_type": "stream",
     "text": [
      "[1, 2, 3]\n",
      "[1, 2, 3, 4]\n"
     ]
    },
    {
     "data": {
      "text/plain": [
       "(7, [1, 2, 3, 4], 9)"
      ]
     },
     "execution_count": 11,
     "metadata": {},
     "output_type": "execute_result"
    }
   ],
   "source": [
    "a=list( [1,2,3] )\n",
    "print (a)\n",
    "a.append(4)\n",
    "print (a)\n",
    "a.insert(0,7)\n",
    "\n",
    "a+=[9]\n",
    "\n",
    "a\n",
    "\n",
    "i,*j,k=a\n",
    "i,j,k\n"
   ]
  },
  {
   "cell_type": "code",
   "execution_count": 2,
   "metadata": {},
   "outputs": [
    {
     "name": "stdout",
     "output_type": "stream",
     "text": [
      "[1, 2, 3, [8, 9]]\n"
     ]
    },
    {
     "data": {
      "text/plain": [
       "[2, 3, [8, 9]]"
      ]
     },
     "execution_count": 2,
     "metadata": {},
     "output_type": "execute_result"
    }
   ],
   "source": [
    "a=[1,2]\n",
    "#a+=3 TypeError: 'int' object is not iterable\n",
    "a+=[3]\n",
    "a.append([8,9])\n",
    "print(a)\n",
    "p,*m=a\n",
    "m"
   ]
  },
  {
   "cell_type": "code",
   "execution_count": 6,
   "metadata": {},
   "outputs": [
    {
     "name": "stdout",
     "output_type": "stream",
     "text": [
      "(1, 2, 3)\n",
      "1\n",
      "2\n",
      "3\n",
      "([1, 2, 3],)\n",
      "[1, 2, 3]\n"
     ]
    },
    {
     "data": {
      "text/plain": [
       "[1, 2, 3]"
      ]
     },
     "execution_count": 6,
     "metadata": {},
     "output_type": "execute_result"
    }
   ],
   "source": [
    "L=[1,2,3] #also can be list\n",
    "def product(a,b,c):\n",
    "    return a*b*c\n",
    "\n",
    "def productv2(*args):\n",
    "    print(args)\n",
    "    r=1\n",
    "    for i in args:\n",
    "        print(i)\n",
    "        r*=i\n",
    "    return r\n",
    "\n",
    "r=product(*L)\n",
    "\n",
    "#r\n",
    "\n",
    "r= product(1, *L[1:])\n",
    "r=productv2(*L)\n",
    "\n",
    "r\n",
    "\n",
    "r=productv2(L)\n",
    "r"
   ]
  },
  {
   "cell_type": "code",
   "execution_count": 37,
   "metadata": {},
   "outputs": [
    {
     "name": "stdout",
     "output_type": "stream",
     "text": [
      "[2, 4, 1, 7, 9, 5, 6, 0, 11]\n",
      "1\n",
      "[77, 77, 4, 1, 7, 9, 5, 6, 0, 11, 6, 7]\n",
      "[77, 4, 1, 7, 9, 5, 6, 0, 11, 6, 7]\n",
      "7\n",
      "[77, 4, 1, 7, 9, 5, 6, 0, 11, 6]\n",
      "9\n",
      "[77, 4, 1, 7, 5, 6, 0, 11, 6]\n",
      "None\n",
      "[77, 4, 1, 7, 5, 6, 0, 6]\n",
      "[6, 0, 6, 5, 7, 1, 4, 77]\n",
      "[0, 1, 4, 5, 6, 6, 7, 77]\n"
     ]
    }
   ],
   "source": [
    "# This cell shows the standard methods of list\n",
    "a=[2,4,1,7,9,5,6,0]\n",
    "a.append(11)\n",
    "print(a)\n",
    "count=a.count(6)\n",
    "print(count)\n",
    "\n",
    "a+=[6]\n",
    "a.extend([7])\n",
    "a[0]=77\n",
    "a.insert(0,77)\n",
    "print (a)\n",
    "del a[0]\n",
    "print(a)\n",
    "\n",
    "print(a.pop())\n",
    "print(a)\n",
    "print(a.pop(4))\n",
    "print(a)\n",
    "print(a.remove(11))\n",
    "print(a)\n",
    "a.reverse()\n",
    "print(a)\n",
    "a.sort()\n",
    "print(a)"
   ]
  },
  {
   "cell_type": "code",
   "execution_count": null,
   "metadata": {},
   "outputs": [],
   "source": []
  },
  {
   "cell_type": "code",
   "execution_count": null,
   "metadata": {},
   "outputs": [],
   "source": []
  }
 ],
 "metadata": {
  "kernelspec": {
   "display_name": "Python 3",
   "language": "python",
   "name": "python3"
  },
  "language_info": {
   "codemirror_mode": {
    "name": "ipython",
    "version": 3
   },
   "file_extension": ".py",
   "mimetype": "text/x-python",
   "name": "python",
   "nbconvert_exporter": "python",
   "pygments_lexer": "ipython3",
   "version": "3.5.2"
  }
 },
 "nbformat": 4,
 "nbformat_minor": 2
}
