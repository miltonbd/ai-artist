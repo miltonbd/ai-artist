{
 "cells": [
  {
   "cell_type": "code",
   "execution_count": 28,
   "metadata": {},
   "outputs": [
    {
     "name": "stdout",
     "output_type": "stream",
     "text": [
      "{'a': 1, 'c': 12, 'b': 2}\n",
      "{'name': 'milton', 'id': 12}\n",
      "{'id': 10}\n",
      "{'id': 1}\n",
      "{'a': 1}\n",
      "['a']\n",
      "dict_items([('a', 1)])\n"
     ]
    }
   ],
   "source": [
    "d={\"a\":1,\"b\":2,'c':12}\n",
    "print(d)\n",
    "\n",
    "d=dict(id=12,name=\"milton\")\n",
    "\n",
    "print(d)\n",
    "\n",
    "d=dict({(\"id\",10)})\n",
    "\n",
    "print(d)\n",
    "\n",
    "d=dict([('id',1)])\n",
    "\n",
    "print(d)\n",
    "\n",
    "d=dict(zip([\"a\"],[1]))\n",
    "\n",
    "print(d)\n",
    "\n",
    "print(list(d.keys()))\n",
    "print(d.items())"
   ]
  },
  {
   "cell_type": "code",
   "execution_count": 22,
   "metadata": {},
   "outputs": [
    {
     "name": "stdout",
     "output_type": "stream",
     "text": [
      "{'d': 1971, 'b': 1971}\n",
      "{'ab cd': [1]}\n"
     ]
    }
   ],
   "source": [
    "b=dict.fromkeys(\"bd\",1971)\n",
    "\n",
    "print(b)\n",
    "\n",
    "b=dict.fromkeys(['ab cd'],[1]) # {}.fromkeys() also works\n",
    "print(b)\n",
    "\n"
   ]
  },
  {
   "cell_type": "code",
   "execution_count": 26,
   "metadata": {},
   "outputs": [
    {
     "name": "stdout",
     "output_type": "stream",
     "text": [
      "defaultdict(<class 'dict'>, {'1': {}})\n"
     ]
    }
   ],
   "source": [
    "# defaultdict creates new key with default value if the accessing key is not present\n",
    "from collections import defaultdict\n",
    "a=defaultdict(dict)\n",
    "a['1']\n",
    "print(a)"
   ]
  },
  {
   "cell_type": "code",
   "execution_count": 33,
   "metadata": {},
   "outputs": [],
   "source": [
    "# dictionary is not ordered means theydobot retain the insertion order.to douse use oredereddict\n",
    "from collections import OrderedDict\n"
   ]
  },
  {
   "cell_type": "code",
   "execution_count": 11,
   "metadata": {},
   "outputs": [
    {
     "name": "stdout",
     "output_type": "stream",
     "text": [
      "1\n"
     ]
    }
   ],
   "source": [
    "mydict = {'a':1, 'b':2}\n",
    "m='ok' if not 'a' in mydict  else mydict['a']\n",
    "print(m)"
   ]
  },
  {
   "cell_type": "code",
   "execution_count": null,
   "metadata": {},
   "outputs": [],
   "source": []
  },
  {
   "cell_type": "code",
   "execution_count": null,
   "metadata": {},
   "outputs": [],
   "source": []
  },
  {
   "cell_type": "code",
   "execution_count": null,
   "metadata": {},
   "outputs": [],
   "source": []
  },
  {
   "cell_type": "code",
   "execution_count": null,
   "metadata": {},
   "outputs": [],
   "source": []
  },
  {
   "cell_type": "code",
   "execution_count": null,
   "metadata": {},
   "outputs": [],
   "source": []
  }
 ],
 "metadata": {
  "kernelspec": {
   "display_name": "Python 3",
   "language": "python",
   "name": "python3"
  },
  "language_info": {
   "codemirror_mode": {
    "name": "ipython",
    "version": 3
   },
   "file_extension": ".py",
   "mimetype": "text/x-python",
   "name": "python",
   "nbconvert_exporter": "python",
   "pygments_lexer": "ipython3",
   "version": "3.5.2"
  }
 },
 "nbformat": 4,
 "nbformat_minor": 2
}
