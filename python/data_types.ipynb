{
 "cells": [
  {
   "cell_type": "markdown",
   "metadata": {},
   "source": [
    "# Tuple is immutable means the object it refers can not be changed"
   ]
  },
  {
   "cell_type": "code",
   "execution_count": 7,
   "metadata": {},
   "outputs": [
    {
     "name": "stdout",
     "output_type": "stream",
     "text": [
      "<class 'tuple'> (1,)\n",
      "<class 'tuple'> (1, 2)\n",
      "<class 'tuple'>\n"
     ]
    }
   ],
   "source": [
    "# tuple is crated with comma, sometimes with ()\n",
    "a=1,\n",
    "print (type(a),a)\n",
    "b=(1,2,)\n",
    "print(type(b),b)\n",
    "\n",
    "# to create empty tuple use ()\n",
    "\n",
    "print ( type(()) )\n",
    "\n"
   ]
  },
  {
   "cell_type": "code",
   "execution_count": 10,
   "metadata": {},
   "outputs": [
    {
     "name": "stdout",
     "output_type": "stream",
     "text": [
      "([1, 2],)\n",
      "([1, 2],)\n"
     ]
    }
   ],
   "source": [
    "a=[1,2]\n",
    "b=(a,)\n",
    "print (b)\n",
    "\n",
    "#b[0]=[2,3] TypeError: 'tuple' object does not support item assignment\n",
    "\n",
    "print (b)"
   ]
  },
  {
   "cell_type": "code",
   "execution_count": 1,
   "metadata": {},
   "outputs": [
    {
     "name": "stdout",
     "output_type": "stream",
     "text": [
      "8\n",
      "4\n"
     ]
    }
   ],
   "source": [
    "# print (len(12132343)) TypeError: object of type 'int' has no len()\n",
    "print (len(\"sdffgffg\"))\n",
    "print ( len( [1,2,3,(4,5)] ) )"
   ]
  },
  {
   "cell_type": "code",
   "execution_count": 11,
   "metadata": {},
   "outputs": [
    {
     "name": "stdout",
     "output_type": "stream",
     "text": [
      "1\n",
      "['In', 'Out', '_', '__', '___', '__builtin__', '__builtins__', '__doc__', '__loader__', '__name__', '__package__', '__spec__', '_a', '_dh', '_i', '_i1', '_i10', '_i11', '_i2', '_i3', '_i4', '_i5', '_i6', '_i7', '_i8', '_i9', '_ih', '_ii', '_iii', '_oh', 'exit', 'get_ipython', 'quit']\n"
     ]
    }
   ],
   "source": [
    "_a=1\n",
    "print(_a)\n",
    "\n",
    "print(dir())  # list of all builtin name objects\n",
    "#print(dir(__builtins__))"
   ]
  },
  {
   "cell_type": "code",
   "execution_count": 24,
   "metadata": {},
   "outputs": [
    {
     "name": "stdout",
     "output_type": "stream",
     "text": [
      "ok\n",
      "ok\n",
      "ok\n",
      "8\n",
      "(2, 1)\n",
      "False\n",
      "(1+5j)\n"
     ]
    }
   ],
   "source": [
    "# we do not care about unlooped value\n",
    "for _ in [1,2,3]:\n",
    "    print(\"ok\")\n",
    "print(pow(2,3))\n",
    "\n",
    "_=print\n",
    "\n",
    "_(divmod(5,2))\n",
    "_(not 1 or not True and True)\n",
    "_(complex(1+5j))"
   ]
  },
  {
   "cell_type": "code",
   "execution_count": 45,
   "metadata": {},
   "outputs": [
    {
     "name": "stdout",
     "output_type": "stream",
     "text": [
      "12/13\n",
      "10.1199999999999992184029906638897955417633056640625\n",
      "False\n",
      "4\n",
      "ffe tgr \" ttyy\n",
      "sdgdg r ' \"r gre h\n",
      "  ertey ewtewt\n"
     ]
    }
   ],
   "source": [
    "from fractions import Fraction\n",
    "\n",
    "a=Fraction(12,13)\n",
    "print (a)\n",
    "\n",
    "from decimal import Decimal\n",
    "\n",
    "b= Decimal(10.12)\n",
    "print (b)\n",
    "\n",
    "print (1.1.is_integer())\n",
    "\n",
    "_(int.bit_length(10))\n",
    "\n",
    "_('ffe tgr \\\" ttyy')\n",
    "_(\"\"\"sdgdg r ' \"r gre h\n",
    "  ertey ewtewt\"\"\")\n"
   ]
  },
  {
   "cell_type": "markdown",
   "metadata": {},
   "source": [
    "# sys.float_info holdsthe floating point info of the system\n"
   ]
  },
  {
   "cell_type": "code",
   "execution_count": 27,
   "metadata": {},
   "outputs": [
    {
     "name": "stdout",
     "output_type": "stream",
     "text": [
      "sys.float_info(max=1.7976931348623157e+308, max_exp=1024, max_10_exp=308, min=2.2250738585072014e-308, min_exp=-1021, min_10_exp=-307, dig=15, mant_dig=53, epsilon=2.220446049250313e-16, radix=2, rounds=1)\n"
     ]
    }
   ],
   "source": [
    "import sys \n",
    "_(sys.float_info)"
   ]
  },
  {
   "cell_type": "code",
   "execution_count": null,
   "metadata": {},
   "outputs": [],
   "source": []
  }
 ],
 "metadata": {
  "kernelspec": {
   "display_name": "Python 3",
   "language": "python",
   "name": "python3"
  },
  "language_info": {
   "codemirror_mode": {
    "name": "ipython",
    "version": 3
   },
   "file_extension": ".py",
   "mimetype": "text/x-python",
   "name": "python",
   "nbconvert_exporter": "python",
   "pygments_lexer": "ipython3",
   "version": "3.5.2"
  }
 },
 "nbformat": 4,
 "nbformat_minor": 2
}
