{
 "cells": [
  {
   "cell_type": "code",
   "execution_count": 5,
   "metadata": {},
   "outputs": [
    {
     "name": "stdout",
     "output_type": "stream",
     "text": [
      "2\n",
      "0\n",
      "(12, 10, 12, 11, 13)\n",
      "(17, 16)\n",
      "12\n",
      "10\n",
      "12\n",
      "11\n",
      "13\n",
      "15\n",
      "17\n",
      "16\n",
      "99\n"
     ]
    }
   ],
   "source": [
    "_=print\n",
    "a=(12,10,12,11,13,15,17,16)\n",
    "a+=(99,)\n",
    "print(a.count(12))\n",
    "print(a.index(12))\n",
    "print(a[:5])\n",
    "print(a[-3:-1])\n",
    "\n",
    "for x in a:\n",
    "    print(x)\n"
   ]
  },
  {
   "cell_type": "code",
   "execution_count": 13,
   "metadata": {},
   "outputs": [
    {
     "name": "stdout",
     "output_type": "stream",
     "text": [
      "1 2\n",
      "2 1\n"
     ]
    }
   ],
   "source": [
    "x,y=1,2\n",
    "print(x,y)\n",
    "\n",
    "y,x=x,y\n",
    "print(x,y)"
   ]
  },
  {
   "cell_type": "code",
   "execution_count": 14,
   "metadata": {},
   "outputs": [],
   "source": [
    "from collections import namedtuple\n",
    "Container=namedtuple('Container',['a','b'])\n"
   ]
  }
 ],
 "metadata": {
  "kernelspec": {
   "display_name": "Python 3",
   "language": "python",
   "name": "python3"
  },
  "language_info": {
   "codemirror_mode": {
    "name": "ipython",
    "version": 3
   },
   "file_extension": ".py",
   "mimetype": "text/x-python",
   "name": "python",
   "nbconvert_exporter": "python",
   "pygments_lexer": "ipython3",
   "version": "3.5.2"
  }
 },
 "nbformat": 4,
 "nbformat_minor": 2
}
