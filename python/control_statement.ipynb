{
 "cells": [
  {
   "cell_type": "code",
   "execution_count": 2,
   "metadata": {},
   "outputs": [
    {
     "name": "stdout",
     "output_type": "stream",
     "text": [
      "[3, 6, 7, 8, 9, 2]\n",
      "[4, 7, 8, 9, 10, 3]\n",
      "{0, 1, 2, 3, 4, 5, 6, 7, 8, 9}\n"
     ]
    }
   ],
   "source": [
    "!#!/usr/env/env python3\n",
    "# we can write in single state for loop in one line when there is single assignment\n",
    "# \n",
    "\n",
    "list1 = [3,6,7,8,9,2]\n",
    "print (list1)\n",
    "a=[]\n",
    "for i in list1:\n",
    "    a.append(i)\n",
    "    \n",
    "\n",
    "b=[i+1 for i in list1]\n",
    "\n",
    "print (b)\n",
    "\n",
    "c={i for i in range(10)}\n",
    "print (c)\n"
   ]
  },
  {
   "cell_type": "code",
   "execution_count": 3,
   "metadata": {},
   "outputs": [
    {
     "ename": "SyntaxError",
     "evalue": "invalid syntax (<ipython-input-3-c7c49e7fbe9f>, line 3)",
     "traceback": [
      "\u001b[0;36m  File \u001b[0;32m\"<ipython-input-3-c7c49e7fbe9f>\"\u001b[0;36m, line \u001b[0;32m3\u001b[0m\n\u001b[0;31m    c =[(i,j) for i in a for j in b for ]\u001b[0m\n\u001b[0m                                        ^\u001b[0m\n\u001b[0;31mSyntaxError\u001b[0m\u001b[0;31m:\u001b[0m invalid syntax\n"
     ],
     "output_type": "error"
    }
   ],
   "source": [
    "a=[1,3,2,4,5,9]\n",
    "b=[3,6]\n",
    "c =[(i,j) for i in a for j in b for ]\n",
    "print (c)"
   ]
  },
  {
   "cell_type": "code",
   "execution_count": 6,
   "metadata": {},
   "outputs": [
    {
     "name": "stdout",
     "output_type": "stream",
     "text": [
      "Please Input Numbers.......\n",
      "1\n",
      "2\n",
      "3\n",
      "\n",
      "Total  3 6\n"
     ]
    }
   ],
   "source": [
    "# This programme sums until any new line is input made\n",
    "\n",
    "print(\"Please Input Numbers.......\")\n",
    "count=0\n",
    "total=0\n",
    "while True:\n",
    "    try:\n",
    "        line=input()\n",
    "        if line:\n",
    "            line =int(line)\n",
    "            count+=line\n",
    "            total+=1\n",
    "        else:\n",
    "            break\n",
    "    except ValueError as err:\n",
    "        print( err )\n",
    "        continue\n",
    "    except EOF:\n",
    "        break\n",
    "\n",
    "\n",
    "print(\"Total \",total,count)\n",
    "\n",
    "\n"
   ]
  },
  {
   "cell_type": "code",
   "execution_count": null,
   "metadata": {},
   "outputs": [],
   "source": []
  },
  {
   "cell_type": "code",
   "execution_count": null,
   "metadata": {},
   "outputs": [],
   "source": []
  },
  {
   "cell_type": "code",
   "execution_count": null,
   "metadata": {},
   "outputs": [],
   "source": []
  },
  {
   "cell_type": "code",
   "execution_count": null,
   "metadata": {},
   "outputs": [],
   "source": []
  }
 ],
 "metadata": {
  "kernelspec": {
   "display_name": "Python 3",
   "language": "python",
   "name": "python3"
  },
  "language_info": {
   "codemirror_mode": {
    "name": "ipython",
    "version": 3
   },
   "file_extension": ".py",
   "mimetype": "text/x-python",
   "name": "python",
   "nbconvert_exporter": "python",
   "pygments_lexer": "ipython3",
   "version": "3.5.2"
  }
 },
 "nbformat": 4,
 "nbformat_minor": 2
}
