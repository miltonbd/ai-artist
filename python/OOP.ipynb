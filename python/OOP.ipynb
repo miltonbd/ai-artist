{
 "cells": [
  {
   "cell_type": "code",
   "execution_count": 2,
   "metadata": {},
   "outputs": [
    {
     "name": "stdout",
     "output_type": "stream",
     "text": [
      "__new__\n__init__\nP super\nst\nrepr\n__new__\n__init__\nP super\neq\nFalse\n_nq\n"
     ]
    },
    {
     "data": {
      "text/plain": [
       "True"
      ]
     },
     "execution_count": 2,
     "metadata": {},
     "output_type": "execute_result"
    }
   ],
   "source": [
    "import timeit\n",
    "\n",
    "class P(object):\n",
    "    def __init__(self):\n",
    "        print(\"P super\")\n",
    "        \n",
    "class A(P):\n",
    "    def __new__(cls,x=0,y=1):\n",
    "        print(\"__new__\")\n",
    "        return object.__new__(cls)\n",
    "    \n",
    "    def __init__(self,x=0,y=0):\n",
    "        print(\"__init__\")\n",
    "        super().__init__()\n",
    "        \n",
    "        \n",
    "        \n",
    "    def __str__(self):\n",
    "        return \"st\"\n",
    "    \n",
    "    def __repr__(self):\n",
    "        return \"repr\"\n",
    "    \n",
    "    def __eq__(self,other):\n",
    "        print(\"eq\")\n",
    "        return False\n",
    "    \n",
    "    def __ne__(self,other):\n",
    "        print(\"_nq\")\n",
    "        return True\n",
    "    \n",
    "    #lt, le, gt, ge,ne\n",
    "\n",
    "        \n",
    "a=A()\n",
    "print(a)\n",
    "print(repr(a))\n",
    "b=A()\n",
    "print(a==b)\n",
    "a!=b\n"
   ]
  },
  {
   "cell_type": "code",
   "execution_count": null,
   "metadata": {},
   "outputs": [],
   "source": []
  }
 ],
 "metadata": {
  "kernelspec": {
   "display_name": "Python 3",
   "language": "python",
   "name": "python3"
  },
  "language_info": {
   "codemirror_mode": {
    "name": "ipython",
    "version": 3
   },
   "file_extension": ".py",
   "mimetype": "text/x-python",
   "name": "python",
   "nbconvert_exporter": "python",
   "pygments_lexer": "ipython3",
   "version": "3.5.2"
  }
 },
 "nbformat": 4,
 "nbformat_minor": 2
}
